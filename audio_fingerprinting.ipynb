{
 "cells": [
  {
   "cell_type": "code",
   "execution_count": 3,
   "metadata": {},
   "outputs": [],
   "source": [
    "import numpy as np\n",
    "import pandas as pd\n",
    "import librosa as lr\n",
    "import matplotlib.pyplot as plt\n",
    "from types import SimpleNamespace"
   ]
  },
  {
   "cell_type": "markdown",
   "metadata": {},
   "source": [
    "### **Audio Configuration**"
   ]
  },
  {
   "cell_type": "code",
   "execution_count": 5,
   "metadata": {},
   "outputs": [],
   "source": [
    "audio_config = SimpleNamespace(\n",
    "    base_path = \"/workspaces/codespaces-blank/assets/audio/\",\n",
    "    sr = 44100,\n",
    "    mono = True,\n",
    ")"
   ]
  },
  {
   "cell_type": "markdown",
   "metadata": {},
   "source": [
    "### **1. Read Audio.**"
   ]
  },
  {
   "cell_type": "code",
   "execution_count": 6,
   "metadata": {},
   "outputs": [],
   "source": [
    "def get_audio_contents(path):\n",
    "    audio_content, _ = lr.load(audio_config.base_path + path)\n",
    "    audio_length = len(audio_content) // audio_config.sr\n",
    "    sec_by_sec = []\n",
    "\n",
    "    for sec in range(audio_length):\n",
    "        segment_start_idx = audio_config.sr * sec\n",
    "        segment_end_idx = audio_config.sr * (sec + 1)\n",
    "        sec_by_sec.append(audio_content[segment_start_idx: segment_end_idx])\n",
    "    \n",
    "    return sec_by_sec"
   ]
  },
  {
   "cell_type": "markdown",
   "metadata": {},
   "source": [
    "### **2. Make Spectrogram**"
   ]
  },
  {
   "cell_type": "code",
   "execution_count": 7,
   "metadata": {},
   "outputs": [],
   "source": [
    "def make_spectrogram(audio_contents):\n",
    "    sec_by_sec_spectrogram = []\n",
    "    for aud_cnt in audio_contents:\n",
    "        spectrogram_of_ith_sec = lr.stft(aud_cnt)\n",
    "        sec_by_sec_spectrogram.append(spectrogram_of_ith_sec)\n",
    "\n",
    "    return sec_by_sec_spectrogram"
   ]
  },
  {
   "cell_type": "markdown",
   "metadata": {},
   "source": [
    "## **Pipeline**"
   ]
  },
  {
   "cell_type": "code",
   "execution_count": 9,
   "metadata": {},
   "outputs": [],
   "source": [
    "class FingerprintPipeline:\n",
    "    def __init__(self, reader_function, spectrogram_genrator_function):\n",
    "        self.audio_configs = audio_config\n",
    "        self.audio_content_reader = reader_function\n",
    "        self.spectrogram_generator = spectrogram_genrator_function\n",
    "        self.__audio_fingerprint = None\n",
    "\n",
    "    def __fingerprint__(self, audio_path):\n",
    "        audio_contents_sec_by_sec = self.audio_content_reader(audio_path)\n",
    "        spectrogram_matrix = self.spectrogram_generator(audio_contents_sec_by_sec)\n",
    "    \n",
    "    def get_fingerprint(self):\n",
    "        return self.__audio_fingerprint"
   ]
  },
  {
   "cell_type": "code",
   "execution_count": 10,
   "metadata": {},
   "outputs": [],
   "source": [
    "fingerprint_pipeline = FingerprintPipeline(get_audio_contents, make_spectrogram)"
   ]
  },
  {
   "cell_type": "code",
   "execution_count": null,
   "metadata": {},
   "outputs": [],
   "source": []
  }
 ],
 "metadata": {
  "kernelspec": {
   "display_name": "Python 3",
   "language": "python",
   "name": "python3"
  },
  "language_info": {
   "codemirror_mode": {
    "name": "ipython",
    "version": 3
   },
   "file_extension": ".py",
   "mimetype": "text/x-python",
   "name": "python",
   "nbconvert_exporter": "python",
   "pygments_lexer": "ipython3",
   "version": "3.10.8"
  },
  "orig_nbformat": 4
 },
 "nbformat": 4,
 "nbformat_minor": 2
}
